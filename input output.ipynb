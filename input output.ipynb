{
 "cells": [
  {
   "cell_type": "code",
   "execution_count": null,
   "id": "96d3fe38",
   "metadata": {},
   "outputs": [],
   "source": [
    "name = input(\"your name \")\n",
    "age = input(\"your age\")\n",
    "print(f\"Hellow {name},you are {age} years old\")"
   ]
  },
  {
   "cell_type": "code",
   "execution_count": null,
   "id": "08e7d37f",
   "metadata": {},
   "outputs": [],
   "source": [
    "number1 = int(input(\"enter the first number\"))\n",
    "number2 = int(input(\"enter the second number\"))\n",
    "print(number1 + number2)"
   ]
  },
  {
   "cell_type": "code",
   "execution_count": null,
   "id": "c854f9d4",
   "metadata": {},
   "outputs": [],
   "source": [
    "word = (\"helow world\")\n",
    "print(\"the number of words: \",len(word))"
   ]
  },
  {
   "cell_type": "code",
   "execution_count": null,
   "id": "4c8fb7ef",
   "metadata": {},
   "outputs": [],
   "source": [
    "with open(\"xy.txt\", \"r\") as file:\n",
    "    text = file.read()\n",
    "    words = text\n",
    "    print(\"number of words:\",len(words))"
   ]
  },
  {
   "cell_type": "code",
   "execution_count": null,
   "id": "215ae34e",
   "metadata": {},
   "outputs": [],
   "source": [
    "sentence = (\"i will be successful\")\n",
    "print(sentence[::-1])"
   ]
  },
  {
   "cell_type": "code",
   "execution_count": null,
   "id": "5cb36438",
   "metadata": {},
   "outputs": [],
   "source": [
    "filename =\"data.csv\"\n",
    "data_dict = {}\n",
    "print(data_dict)"
   ]
  }
 ],
 "metadata": {
  "language_info": {
   "name": "python"
  }
 },
 "nbformat": 4,
 "nbformat_minor": 5
}
